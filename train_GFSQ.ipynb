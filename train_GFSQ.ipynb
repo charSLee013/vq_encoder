{
 "cells": [
  {
   "cell_type": "code",
   "execution_count": 1,
   "metadata": {},
   "outputs": [],
   "source": [
    "#!/usr/bin/env python\n",
    "# coding: utf-8"
   ]
  },
  {
   "cell_type": "code",
   "execution_count": 2,
   "metadata": {},
   "outputs": [
    {
     "name": "stderr",
     "output_type": "stream",
     "text": [
      "2024-06-12 09:49:08.811431: I tensorflow/core/platform/cpu_feature_guard.cc:210] This TensorFlow binary is optimized to use available CPU instructions in performance-critical operations.\n",
      "To enable the following instructions: AVX2 AVX512F FMA, in other operations, rebuild TensorFlow with the appropriate compiler flags.\n",
      "2024-06-12 09:49:24.271986: W tensorflow/compiler/tf2tensorrt/utils/py_utils.cc:38] TF-TRT Warning: Could not find TensorRT\n"
     ]
    }
   ],
   "source": [
    "import torch\n",
    "import torch.nn as nn\n",
    "import torch.optim as optim\n",
    "import torch.nn.functional as F\n",
    "from torch.utils.data import DataLoader, Dataset\n",
    "from modules.wavenet import WaveNet\n",
    "from modules.dvae import GFSQ, DVAEDecoder\n",
    "import os\n",
    "from torch.utils.tensorboard import SummaryWriter\n",
    "import librosa\n",
    "import torchaudio\n",
    "from torch.utils.data import random_split\n",
    "import logging\n",
    "from torch.cuda.amp import autocast, GradScaler\n",
    "from modules.feature_extractors import MelSpectrogramFeatures"
   ]
  },
  {
   "cell_type": "markdown",
   "metadata": {},
   "source": [
    "设置设备，优先使用CUDA，其次是MPS（Mac上的GPU加速），最后是CPU"
   ]
  },
  {
   "cell_type": "code",
   "execution_count": 3,
   "metadata": {},
   "outputs": [
    {
     "name": "stderr",
     "output_type": "stream",
     "text": [
      "INFO:root:Use device: cuda:0\n"
     ]
    }
   ],
   "source": [
    "device = torch.device('cuda:0' if torch.cuda.is_available() else 'mps' if torch.backends.mps.is_available() else 'cpu')\n",
    "# 设置日志级别为INFO\n",
    "logging.basicConfig(level=logging.INFO)\n",
    "logger = logging.getLogger()\n",
    "logger.info(f\"Use device: {device}\")\n",
    "log_dir = \"runs/experiment1\"  # 指定日志目录\n",
    "writer = SummaryWriter(log_dir=log_dir)"
   ]
  },
  {
   "cell_type": "code",
   "execution_count": 4,
   "metadata": {},
   "outputs": [],
   "source": [
    "class AudioDataset(Dataset):\n",
    "    def __init__(self, audio_files, sample_rate=24000,n_fft =1024,hop_length=512,n_mels=100):\n",
    "        # 初始化音频文件列表和Mel谱图转换器\n",
    "        self.audio_files = audio_files\n",
    "        # self.mel_spectrogram = torchaudio.transforms.MelSpectrogram(sample_rate=sample_rate)\n",
    "        self.mel_spectrogram = MelSpectrogramFeatures(sample_rate=sample_rate, n_fft=n_fft, hop_length=hop_length, n_mels=n_mels)\n",
    "        self.sample_rate = sample_rate\n",
    "    def __len__(self):\n",
    "        # 返回数据集中的音频文件数量\n",
    "        return len(self.audio_files)\n",
    "    def __getitem__(self, idx):\n",
    "        # 加载并返回指定索引的音频文件的Mel谱图\n",
    "        mel_spectrogram = self.load_mel_spectrogram(self.audio_files[idx])\n",
    "        return mel_spectrogram\n",
    "    # def load_mel_spectrogram(self, file_path):\n",
    "    #     # 加载音频文件并转换为Mel谱图\n",
    "    #     waveform, sr = librosa.load(file_path, sr=self.sample_rate, mono=True)\n",
    "    #     S = librosa.feature.melspectrogram(y=waveform, sr=sr, n_mels=128,n_fft=1024,hop_length=256,)\n",
    "    #     return torch.from_numpy(S)\n",
    "    def load_mel_spectrogram(self, file_path):\n",
    "        # 加载音频文件并转换为Mel谱图\n",
    "        waveform, sr = torchaudio.load(file_path)\n",
    "        if waveform.shape[0] > 1:\n",
    "            waveform = waveform.mean(dim=0)\n",
    "        if sr != self.sample_rate:\n",
    "            waveform = torchaudio.transforms.Resample(sr, self.sample_rate)(waveform)\n",
    "        mel_spectrogram = self.mel_spectrogram(waveform)\n",
    "        return mel_spectrogram[0]\n"
   ]
  },
  {
   "cell_type": "code",
   "execution_count": 5,
   "metadata": {},
   "outputs": [],
   "source": [
    "def get_audio_files(root_dir):\n",
    "    \"\"\"# 从指定目录加载所有符合条件的音频文件\n",
    "    \"\"\"\n",
    "    audio_files = []\n",
    "    for root, _, files in os.walk(root_dir):\n",
    "        for file in files:\n",
    "            if file.endswith(\".wav\"):\n",
    "                file_path = os.path.join(root, file)\n",
    "                duration = torchaudio.info(file_path).num_frames / torchaudio.info(file_path).sample_rate\n",
    "                if 2 <= duration <= 30:\n",
    "                    audio_files.append(file_path)\n",
    "    return audio_files"
   ]
  },
  {
   "cell_type": "code",
   "execution_count": 6,
   "metadata": {},
   "outputs": [],
   "source": [
    "def dynamic_collate_fn(batch):\n",
    "    # Filter out tensors that do not have 2 dimensions\n",
    "    batch = [tensor for tensor in batch if len(tensor.shape) == 2]\n",
    "\n",
    "    # Ensure the batch is not empty after filtering\n",
    "    if len(batch) == 0:\n",
    "        raise ValueError(\"All tensors in the batch were skipped. Check your data preprocessing.\")\n",
    "    \n",
    "    # 按照音频长度排序\n",
    "    batch.sort(key=lambda x: x.shape[1], reverse=True)\n",
    "    max_len = batch[0].shape[1]\n",
    "    \n",
    "    # 填充所有张量到相同的长度\n",
    "    padded_batch = []\n",
    "    for tensor in batch:\n",
    "        padded_tensor = torch.nn.functional.pad(tensor, (0, max_len - tensor.shape[1]), mode='constant', value=0)\n",
    "        padded_batch.append(padded_tensor)\n",
    "    \n",
    "    if len(padded_batch) == 0:\n",
    "        raise ValueError(\"All tensors in the batch were skipped. Check your data preprocessing.\")\n",
    "    \n",
    "    batch_tensor = torch.stack(padded_batch)\n",
    "    return batch_tensor\n"
   ]
  },
  {
   "cell_type": "markdown",
   "metadata": {},
   "source": [
    "初始化模型参数"
   ]
  },
  {
   "cell_type": "code",
   "execution_count": 7,
   "metadata": {},
   "outputs": [],
   "source": [
    "model_params = {\n",
    "    \"WaveNet\": {\"input_channels\": 100, \"output_channels\": 512, 'residual_layers': 12, 'dilation_cycle': 4,},\n",
    "    \"GFSQ\": {\"dim\": 512, \"levels\": [8,8,5,5], \"G\": 4, \"R\": 4},\n",
    "    \"DVAEDecoder\": {\"idim\": 256, \"odim\": 100, \"n_layer\":12, \"bn_dim\": 128, \"hidden\":512}\n",
    "}"
   ]
  },
  {
   "cell_type": "markdown",
   "metadata": {},
   "source": [
    "实例化模型"
   ]
  },
  {
   "cell_type": "code",
   "execution_count": 8,
   "metadata": {},
   "outputs": [],
   "source": [
    "wavenet = WaveNet(**model_params[\"WaveNet\"]).to(device)\n",
    "gfsq = GFSQ(**model_params[\"GFSQ\"]).to(device)\n",
    "decoder = DVAEDecoder(**model_params[\"DVAEDecoder\"]).to(device)"
   ]
  },
  {
   "cell_type": "markdown",
   "metadata": {},
   "source": [
    "定义损失函数和优化器"
   ]
  },
  {
   "cell_type": "code",
   "execution_count": 9,
   "metadata": {},
   "outputs": [],
   "source": [
    "loss_type = 'MSE'\n",
    "if loss_type == 'MSE':\n",
    "    criterion = nn.MSELoss()\n",
    "else:\n",
    "    criterion = nn.L1Loss()\n",
    "\n",
    "optimizer = optim.Adam(\n",
    "    list(wavenet.parameters()) + list(gfsq.parameters()) + list(decoder.parameters()), \n",
    "    lr=4e-4,\n",
    "    betas=(0.8, 0.99),\n",
    "    eps=1e-6,\n",
    ")"
   ]
  },
  {
   "cell_type": "markdown",
   "metadata": {},
   "source": [
    "使用学习率调度器"
   ]
  },
  {
   "cell_type": "code",
   "execution_count": 10,
   "metadata": {},
   "outputs": [],
   "source": [
    "import math\n",
    "\n",
    "scheduler = optim.lr_scheduler.ExponentialLR(optimizer, gamma=0.999999)  # 调整调度器参数\n",
    "# 在模型定义后添加以下代码\n",
    "T_max = 100  # 余弦退火的最大周期为总轮数\n",
    "eta_min = 1e-6  # 最小学习率为1e-6\n",
    "\n",
    "# scheduler = optim.lr_scheduler.CosineAnnealingLR(optimizer, T_max=T_max, eta_min=eta_min)\n",
    "# scheduler = optim.lr_scheduler.ReduceLROnPlateau(optimizer, 'min', patience=5, factor=0.5)\n",
    "\n",
    "# def get_cosine_schedule_with_warmup_lr_lambda(\n",
    "#     current_step: int,\n",
    "#     num_warmup_steps: int,\n",
    "#     num_training_steps: int,\n",
    "#     num_cycles: float = 0.5,\n",
    "#     final_lr_ratio: float = 0.0,\n",
    "# ):\n",
    "#     if current_step < num_warmup_steps:\n",
    "#         return float(current_step) / float(max(1, num_warmup_steps))\n",
    "\n",
    "#     progress = float(current_step - num_warmup_steps) / float(\n",
    "#         max(1, num_training_steps - num_warmup_steps)\n",
    "#     )\n",
    "\n",
    "#     return max(\n",
    "#         final_lr_ratio,\n",
    "#         0.5 * (1.0 + math.cos(math.pi * float(num_cycles) * 2.0 * progress)),\n",
    "#     )\n",
    "\n",
    "# # 创建 LambdaLR 调度器\n",
    "# num_warmup_steps = 100\n",
    "# num_training_steps = 10000\n",
    "# final_lr_ratio = 0\n",
    "# scheduler = torch.optim.lr_scheduler.LambdaLR(\n",
    "#     optimizer, \n",
    "#     lr_lambda=lambda step: get_cosine_schedule_with_warmup_lr_lambda(\n",
    "#         step, \n",
    "#         num_warmup_steps=num_warmup_steps, \n",
    "#         num_training_steps=num_training_steps,\n",
    "#         final_lr_ratio = 0\n",
    "#     )\n",
    "# )"
   ]
  },
  {
   "cell_type": "markdown",
   "metadata": {},
   "source": [
    "梯度累积设置"
   ]
  },
  {
   "cell_type": "code",
   "execution_count": 11,
   "metadata": {},
   "outputs": [],
   "source": [
    "accumulation_steps = 8"
   ]
  },
  {
   "cell_type": "markdown",
   "metadata": {},
   "source": [
    "加载数据集并拆分为训练集和验证集"
   ]
  },
  {
   "cell_type": "code",
   "execution_count": 12,
   "metadata": {},
   "outputs": [],
   "source": [
    "root_dir = \"/tmp/three_moon/\"\n",
    "audio_files = get_audio_files(root_dir)\n",
    "dataset = AudioDataset(audio_files)"
   ]
  },
  {
   "cell_type": "markdown",
   "metadata": {},
   "source": [
    "切割分成训练集和校验集"
   ]
  },
  {
   "cell_type": "code",
   "execution_count": 13,
   "metadata": {},
   "outputs": [
    {
     "name": "stderr",
     "output_type": "stream",
     "text": [
      "INFO:root:Train size: 2493 \t Val size: 132\n"
     ]
    }
   ],
   "source": [
    "train_size = int(0.95 * len(dataset))\n",
    "val_size = len(dataset) - train_size\n",
    "train_dataset, val_dataset = random_split(dataset, [train_size, val_size])\n",
    "logger.info(f\"Train size: {len(train_dataset)} \\t Val size: {len(val_dataset)}\")"
   ]
  },
  {
   "cell_type": "code",
   "execution_count": 14,
   "metadata": {},
   "outputs": [],
   "source": [
    "if 'cuda' in str(device):\n",
    "    batch_size = 8\n",
    "else:\n",
    "    batch_size = 1\n",
    "\n",
    "train_loader = DataLoader(train_dataset, batch_size=batch_size, shuffle=True, collate_fn=dynamic_collate_fn, )\n",
    "val_loader = DataLoader(val_dataset, batch_size=batch_size, shuffle=False, collate_fn=dynamic_collate_fn, )"
   ]
  },
  {
   "cell_type": "markdown",
   "metadata": {},
   "source": [
    "查找是否有记录点"
   ]
  },
  {
   "cell_type": "code",
   "execution_count": 15,
   "metadata": {},
   "outputs": [],
   "source": [
    "import glob  # 用于查找模型文件"
   ]
  },
  {
   "cell_type": "markdown",
   "metadata": {},
   "source": [
    "定义 resume 变量"
   ]
  },
  {
   "cell_type": "code",
   "execution_count": 16,
   "metadata": {},
   "outputs": [],
   "source": [
    "resume = False  # 如果需要从最新检查点恢复训练，则设置为 True"
   ]
  },
  {
   "cell_type": "markdown",
   "metadata": {},
   "source": [
    "获取最新的检查点"
   ]
  },
  {
   "cell_type": "code",
   "execution_count": 17,
   "metadata": {},
   "outputs": [],
   "source": [
    "def convert_state_dict_to_float(state_dict):\n",
    "    \"\"\"\n",
    "    将 state_dict 中的所有张量从 fp16 转换为 fp32\n",
    "    \"\"\"\n",
    "    new_state_dict = {}\n",
    "    for k, v in state_dict.items():\n",
    "        new_state_dict[k] = v.float()  # 将每个张量转换为float32\n",
    "    return new_state_dict\n",
    "\n",
    "\n",
    "if resume:\n",
    "    checkpoint_files = glob.glob('checkpoint_epoch_*.pth')\n",
    "    if checkpoint_files:\n",
    "        latest_checkpoint = max(checkpoint_files, key=os.path.getctime)\n",
    "        checkpoint = torch.load(latest_checkpoint)\n",
    "        wavenet.load_state_dict(convert_state_dict_to_float(checkpoint['wavenet_state_dict']))\n",
    "        gfsq.load_state_dict(convert_state_dict_to_float(checkpoint['gfsq_state_dict']))\n",
    "        decoder.load_state_dict(convert_state_dict_to_float(checkpoint['decoder_state_dict']))\n",
    "        optimizer.load_state_dict(checkpoint['optimizer_state_dict'])\n",
    "        start_epoch = checkpoint['epoch']\n",
    "        logger.info(f\"Resumed training from epoch {start_epoch}\")\n",
    "    else:\n",
    "        start_epoch = 0\n",
    "        logger.info(\"No checkpoint found, starting from scratch.\")\n",
    "else:\n",
    "    start_epoch = 0\n",
    "    \n",
    "\n",
    "# 创建 GradScaler，转换为fp16\n",
    "scaler = GradScaler()"
   ]
  },
  {
   "cell_type": "code",
   "execution_count": 18,
   "metadata": {},
   "outputs": [],
   "source": [
    "import librosa\n",
    "import numpy as np\n",
    "import torch\n",
    "\n",
    "def mel_to_audio(mel_spectrogram, sr=24000, n_fft=1024, hop_length=256, win_length=None):\n",
    "    \"\"\"将 Mel 频谱图转换回音频信号\"\"\"\n",
    "    # 确保输入为 NumPy 数组\n",
    "    if isinstance(mel_spectrogram, torch.Tensor):\n",
    "        mel_spectrogram = mel_spectrogram.cpu().numpy()\n",
    "    \n",
    "    # 使用 librosa 的功能进行逆 Mel 频谱变换\n",
    "    mel_decompress = librosa.feature.inverse.mel_to_audio(mel_spectrogram, sr=sr, n_fft=n_fft, hop_length=hop_length, win_length=win_length)\n",
    "    return mel_decompress"
   ]
  },
  {
   "cell_type": "code",
   "execution_count": 19,
   "metadata": {},
   "outputs": [],
   "source": [
    "# 定义混合损失函数\n",
    "def mixed_loss(decoded_features, mel_spectrogram):\n",
    "    loss_mse = F.mse_loss(decoded_features, mel_spectrogram)\n",
    "    loss_l1 = F.l1_loss(decoded_features, mel_spectrogram)\n",
    "    return loss_mse*0.5 + 0.5 * loss_l1\n",
    "\n",
    "# 时间步翻倍\n",
    "def double_time_steps(mel_spectrogram):\n",
    "    batch_size, n_mels, time_steps = mel_spectrogram.shape\n",
    "    mel_spectrogram = mel_spectrogram.unsqueeze(1)  # 添加通道维度\n",
    "    doubled_mel = F.interpolate(mel_spectrogram, size=(n_mels, time_steps * 2), mode='bilinear', align_corners=False)\n",
    "    return doubled_mel.squeeze(1)  # 移除通道维度"
   ]
  },
  {
   "cell_type": "markdown",
   "metadata": {},
   "source": [
    "训练循环"
   ]
  },
  {
   "cell_type": "code",
   "execution_count": null,
   "metadata": {},
   "outputs": [
    {
     "name": "stderr",
     "output_type": "stream",
     "text": [
      "INFO:root:Epoch [1/10000], Step [100], Loss: 3.1395137310028076, Perplexity: 10.470766067504883\n",
      "INFO:root:Epoch [1/10000], Step [200], Loss: 1.625933289527893, Perplexity: 21.919349670410156\n",
      "INFO:root:Epoch [1/10000], Step [300], Loss: 1.0137007236480713, Perplexity: 33.78350830078125\n",
      "INFO:root:Model saved to checkpoint_epoch_1_step_312.pth\n",
      "INFO:root:Epoch [1/10000], MSE Loss: 1.056236042695887, L1 Loss: 0.6773249647196602\n",
      "INFO:root:Epoch [2/10000], Step [400], Loss: 1.0506415367126465, Perplexity: 71.95936584472656\n",
      "INFO:root:Epoch [2/10000], Step [500], Loss: 0.8706508874893188, Perplexity: 21.232730865478516\n",
      "INFO:root:Epoch [2/10000], Step [600], Loss: 0.7492789626121521, Perplexity: 34.538753509521484\n",
      "INFO:root:Epoch [2/10000], MSE Loss: 0.8177065884365755, L1 Loss: 0.6125250932048348\n",
      "INFO:root:Epoch [3/10000], Step [700], Loss: 0.791869580745697, Perplexity: 55.35238265991211\n",
      "INFO:root:Epoch [3/10000], Step [800], Loss: 0.7141477465629578, Perplexity: 23.713993072509766\n"
     ]
    }
   ],
   "source": [
    "# 训练循环\n",
    "num_epochs = 10000  # 定义训练的总轮数\n",
    "i = 0\n",
    "for epoch in range(start_epoch, num_epochs):\n",
    "    wavenet.train()  # 设置WaveNet模型为训练模式\n",
    "    gfsq.train()  # 设置GFSQ模型为训练模式\n",
    "    decoder.train()  # 设置DVAEDecoder模型为训练模式\n",
    "    \n",
    "    for _, mel_spectrogram in enumerate(train_loader):\n",
    "        mel_spectrogram = mel_spectrogram.to(device)  # 将mel谱图数据移动到指定设备（GPU或CPU）\n",
    "        optimizer.zero_grad()  # 清空梯度\n",
    "        \n",
    "        # 前向传播\n",
    "        with autocast():\n",
    "            features = wavenet(mel_spectrogram)  # 通过WaveNet提取特征\n",
    "            _, quantized_features, perplexity, _, quantized_indices = gfsq(features)# 通过GFSQ量化特征\n",
    "\n",
    "            # 将特征沿着 dim=1 维度分成两部分，得到两个形状为 (1, 512, 121) 的张量。\n",
    "            temp = torch.chunk(quantized_features, 2, dim=1) # flatten trick :)\n",
    "            #将这两个张量堆叠在一起，得到形状为 (1, 512, 121, 2) 的张量\n",
    "            temp = torch.stack(temp, -1)\n",
    "            # 重新调整特征形状，得到 vq_feats 形状为 (1, 512, 242)\n",
    "            quantized_features = temp.reshape(*temp.shape[:2], -1)\n",
    "            # 将特征 vq_feats 转置,转置后的特征 vq_feats 形状为 (1, 242, 512)\n",
    "            # quantized_features = vq_feats.transpose(1, 2)\n",
    "            \n",
    "            decoded_features = decoder(quantized_features)  # 通过DVAEDecoder解码特征\n",
    "            # 解码的时间步会翻倍，所以也需要将原来的Mel频谱图翻倍处理\n",
    "            mel_spectrogram = double_time_steps(mel_spectrogram)\n",
    "\n",
    "            # 计算损失\n",
    "            loss = criterion(decoded_features, mel_spectrogram)  # 计算解码后的特征与原始mel谱图之间的均方误差损失\n",
    "            # loss = mixed_loss(decoded_features, mel_spectrogram)\n",
    "            # (loss / accumulation_steps).backward()  # 反向传播并进行梯度累积\n",
    "        scaler.scale(loss).backward()\n",
    "        \n",
    "        if (i + 1) % accumulation_steps == 0:\n",
    "            # optimizer.step()  # 每 accumulation_steps 步更新一次模型参数\n",
    "            scaler.step(optimizer)\n",
    "            scaler.update()\n",
    "            optimizer.zero_grad()\n",
    "\n",
    "        # 打印每100 steps的信息\n",
    "        if (i + 1) % 100 == 0:\n",
    "            logger.info(f\"Epoch [{epoch+1}/{num_epochs}], Step [{i+1}], Loss: {loss.item()}, Perplexity: {perplexity.mean().item()}\")\n",
    "            writer.add_scalar('training_perplexity', perplexity.mean().item(), epoch * len(train_loader) + i)\n",
    "\n",
    "        # 每500 steps保存一次模型\n",
    "        if (i + 1) % 1000 == 0 or (i+1) == len(train_loader):\n",
    "            checkpoint_path = f'checkpoint_epoch_{epoch+1}_step_{i+1}.pth'\n",
    "            torch.save({\n",
    "                'epoch': epoch,\n",
    "                'wavenet_state_dict': wavenet.state_dict(),\n",
    "                'gfsq_state_dict': gfsq.state_dict(), \n",
    "                'decoder_state_dict': decoder.state_dict(),\n",
    "                'optimizer_state_dict': optimizer.state_dict(),\n",
    "                'scaler_state_dict': scaler.state_dict(),  # 保存 GradScaler 状态\n",
    "            }, checkpoint_path)\n",
    "            logger.info(f\"Model saved to {checkpoint_path}\")\n",
    "        i += 1   # 更新迭代计数器\n",
    "\n",
    "    scheduler.step()  # 每个epoch结束后更新学习率\n",
    "\n",
    "    # 验证模型\n",
    "    wavenet.eval()  # 设置WaveNet模型为评估模式\n",
    "    gfsq.eval()  # 设置GFSQ模型为评估模式\n",
    "    decoder.eval()  # 设置DVAEDecoder模型为评估模式\n",
    "    val_loss_mse = 0  # 初始化验证MSE损失\n",
    "    val_loss_l1 = 0  # 初始化验证L1损失\n",
    "    with torch.no_grad():  # 禁用梯度计算\n",
    "        for batch_index, mel_spectrogram in enumerate(val_loader):\n",
    "            mel_spectrogram = mel_spectrogram.to(device)  # 将mel谱图数据移动到指定设备\n",
    "            with autocast():\n",
    "                features = wavenet(mel_spectrogram)  # 通过WaveNet提取特征\n",
    "                _, quantized_features, perplexity, _, quantized_indices = gfsq(features) # 通过GFSQ量化特征\n",
    "    \n",
    "                # 将特征沿着 dim=1 维度分成两部分，得到两个形状为 (1, 512, 121) 的张量。\n",
    "                temp = torch.chunk(quantized_features, 2, dim=1) # flatten trick :)\n",
    "                #将这两个张量堆叠在一起，得到形状为 (1, 512, 121, 2) 的张量\n",
    "                temp = torch.stack(temp, -1)\n",
    "                # 重新调整特征形状，得到 vq_feats 形状为 (1, 512, 242)\n",
    "                quantized_features = temp.reshape(*temp.shape[:2], -1)\n",
    "                # 将特征 vq_feats 转置,转置后的特征 vq_feats 形状为 (1, 242, 512)\n",
    "                # quantized_features = vq_feats.transpose(1, 2)\n",
    "                \n",
    "                decoded_features = decoder(quantized_features)  # 通过DVAEDecoder解码特征\n",
    "                # 解码的时间步会翻倍，所以也需要将原来的Mel频谱图翻倍处理\n",
    "                mel_spectrogram = double_time_steps(mel_spectrogram)\n",
    "                \n",
    "                # 计算MSE损失\n",
    "                loss_mse = F.mse_loss(decoded_features, mel_spectrogram)  # 计算解码后的特征与原始mel谱图之间的均方误差损失\n",
    "                val_loss_mse += loss_mse.item()  # 累加验证MSE损失\n",
    "\n",
    "                # 计算L1损失\n",
    "                loss_l1 = F.l1_loss(decoded_features, mel_spectrogram)  # 计算解码后的特征与原始mel谱图之间的L1损失\n",
    "                val_loss_l1 += loss_l1.item()  # 累加验证L1损失\n",
    "\n",
    "    val_loss_mse /= len(val_loader)  # 计算平均验证MSE损失\n",
    "    val_loss_l1 /= len(val_loader)  # 计算平均验证L1损失\n",
    "\n",
    "    logger.info(f\"Epoch [{epoch+1}/{num_epochs}], MSE Loss: {val_loss_mse}, L1 Loss: {val_loss_l1}\")\n",
    "    writer.add_scalar('validation_mse_loss', val_loss_mse, epoch)  # 记录验证MSE损失到TensorBoard\n",
    "    writer.add_scalar('validation_l1_loss', val_loss_l1, epoch)  # 记录验证L1损失到TensorBoard\n",
    "\n",
    "logger.info(\"训练完成\")  # 训练完成后打印日志\n",
    "writer.close()  # 关闭TensorBoard日志记录器"
   ]
  }
 ],
 "metadata": {
  "kernelspec": {
   "display_name": "Python 3 (ipykernel)",
   "language": "python",
   "name": "python3"
  },
  "language_info": {
   "codemirror_mode": {
    "name": "ipython",
    "version": 3
   },
   "file_extension": ".py",
   "mimetype": "text/x-python",
   "name": "python",
   "nbconvert_exporter": "python",
   "pygments_lexer": "ipython3",
   "version": "3.10.8"
  }
 },
 "nbformat": 4,
 "nbformat_minor": 4
}
