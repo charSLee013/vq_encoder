{
 "cells": [
  {
   "cell_type": "code",
   "execution_count": 1,
   "metadata": {},
   "outputs": [
    {
     "name": "stderr",
     "output_type": "stream",
     "text": [
      "/Users/charslee/miniconda3/envs/torch/lib/python3.10/site-packages/tqdm/auto.py:21: TqdmWarning: IProgress not found. Please update jupyter and ipywidgets. See https://ipywidgets.readthedocs.io/en/stable/user_install.html\n",
      "  from .autonotebook import tqdm as notebook_tqdm\n"
     ]
    }
   ],
   "source": [
    "import torch\n",
    "import torch.nn as nn\n",
    "import torch.optim as optim\n",
    "import torch.nn.functional as F\n",
    "from torch.utils.data import DataLoader, Dataset\n",
    "from modules.wavenet import WaveNet\n",
    "from modules.dvae import GFSQ, DVAEDecoder\n",
    "import os\n",
    "from torch.utils.tensorboard import SummaryWriter\n",
    "import librosa\n",
    "import torchaudio\n",
    "from torch.utils.data import random_split\n",
    "import logging\n",
    "from torch.cuda.amp import autocast, GradScaler\n",
    "from modules.feature_extractors import MelSpectrogramFeatures\n",
    "from modules.discriminator import DynamicAudioDiscriminator"
   ]
  },
  {
   "cell_type": "markdown",
   "metadata": {},
   "source": [
    "设置设备，优先使用CUDA，其次是MPS（Mac上的GPU加速），最后是CPU"
   ]
  },
  {
   "cell_type": "code",
   "execution_count": 2,
   "metadata": {},
   "outputs": [
    {
     "name": "stderr",
     "output_type": "stream",
     "text": [
      "INFO:root:Use device: mps\n"
     ]
    }
   ],
   "source": [
    "device = torch.device('cuda:0' if torch.cuda.is_available() else 'mps' if torch.backends.mps.is_available() else 'cpu')\n",
    "# 设置日志级别为INFO\n",
    "logging.basicConfig(level=logging.INFO)\n",
    "logger = logging.getLogger()\n",
    "logger.info(f\"Use device: {device}\")\n",
    "log_dir = \"runs/experiment1\"  # 指定日志目录\n",
    "writer = SummaryWriter(log_dir=log_dir)"
   ]
  },
  {
   "cell_type": "code",
   "execution_count": 3,
   "metadata": {},
   "outputs": [],
   "source": [
    "class AudioDataset(Dataset):\n",
    "    def __init__(self, audio_files, sample_rate=24000,n_fft =1024,hop_length=512,n_mels=100):\n",
    "        # 初始化音频文件列表和Mel谱图转换器\n",
    "        self.audio_files = audio_files\n",
    "        # self.mel_spectrogram = torchaudio.transforms.MelSpectrogram(sample_rate=sample_rate)\n",
    "        self.mel_spectrogram = MelSpectrogramFeatures(sample_rate=sample_rate, n_fft=n_fft, hop_length=hop_length, n_mels=n_mels)\n",
    "        self.sample_rate = sample_rate\n",
    "    def __len__(self):\n",
    "        # 返回数据集中的音频文件数量\n",
    "        return len(self.audio_files)\n",
    "    def __getitem__(self, idx):\n",
    "        # 加载并返回指定索引的音频文件的Mel谱图\n",
    "        mel_spectrogram = self.load_mel_spectrogram(self.audio_files[idx])\n",
    "        return mel_spectrogram\n",
    "    # def load_mel_spectrogram(self, file_path):\n",
    "    #     # 加载音频文件并转换为Mel谱图\n",
    "    #     waveform, sr = librosa.load(file_path, sr=self.sample_rate, mono=True)\n",
    "    #     S = librosa.feature.melspectrogram(y=waveform, sr=sr, n_mels=128,n_fft=1024,hop_length=256,)\n",
    "    #     return torch.from_numpy(S)\n",
    "    def load_mel_spectrogram(self, file_path):\n",
    "        # 加载音频文件并转换为Mel谱图\n",
    "        waveform, sr = torchaudio.load(file_path)\n",
    "        if waveform.shape[0] > 1:\n",
    "            waveform = waveform.mean(dim=0)\n",
    "        if sr != self.sample_rate:\n",
    "            waveform = torchaudio.transforms.Resample(sr, self.sample_rate)(waveform)\n",
    "        mel_spectrogram = self.mel_spectrogram(waveform)\n",
    "        return mel_spectrogram[0]\n"
   ]
  },
  {
   "cell_type": "code",
   "execution_count": 4,
   "metadata": {},
   "outputs": [],
   "source": [
    "def get_audio_files(root_dir):\n",
    "    \"\"\"# 从指定目录加载所有符合条件的音频文件\n",
    "    \"\"\"\n",
    "    audio_files = []\n",
    "    for root, _, files in os.walk(root_dir):\n",
    "        for file in files:\n",
    "            if file.endswith(\".wav\"):\n",
    "                file_path = os.path.join(root, file)\n",
    "                duration = torchaudio.info(file_path).num_frames / torchaudio.info(file_path).sample_rate\n",
    "                if 1 <= duration <= 30:\n",
    "                    audio_files.append(file_path)\n",
    "    return audio_files"
   ]
  },
  {
   "cell_type": "code",
   "execution_count": 5,
   "metadata": {},
   "outputs": [],
   "source": [
    "def dynamic_collate_fn(batch):\n",
    "    # Filter out tensors that do not have 2 dimensions\n",
    "    batch = [tensor for tensor in batch if len(tensor.shape) == 2]\n",
    "\n",
    "    # If the batch is empty after filtering, return None to skip this batch\n",
    "    if len(batch) == 0:\n",
    "        return None\n",
    "    \n",
    "    # 按照音频长度排序\n",
    "    batch.sort(key=lambda x: x.shape[1], reverse=True)\n",
    "    max_len = batch[0].shape[1]\n",
    "    \n",
    "    # 填充所有张量到相同的长度\n",
    "    padded_batch = []\n",
    "    for tensor in batch:\n",
    "        padded_tensor = torch.nn.functional.pad(tensor, (0, max_len - tensor.shape[1]), mode='constant', value=0)\n",
    "        padded_batch.append(padded_tensor)\n",
    "    \n",
    "    batch_tensor = torch.stack(padded_batch)\n",
    "    return batch_tensor"
   ]
  },
  {
   "cell_type": "markdown",
   "metadata": {},
   "source": [
    "初始化模型参数"
   ]
  },
  {
   "cell_type": "code",
   "execution_count": 6,
   "metadata": {},
   "outputs": [],
   "source": [
    "model_params = {\n",
    "    \"WaveNet\": {\"input_channels\": 100, \"output_channels\": 1024, 'residual_layers': 12, 'dilation_cycle': 4,},\n",
    "    \"GFSQ\": {\"dim\": 1024, \"levels\": [16,16,8,8], \"G\": 8, \"R\": 4},\n",
    "    \"DVAEDecoder\": {\"idim\": 1024, \"odim\": 100, \"n_layer\":12, \"bn_dim\": 128, \"hidden\":512},\n",
    "    \"DynamicAudioDiscriminator\":{\"num_mels\":100}\n",
    "}"
   ]
  },
  {
   "cell_type": "markdown",
   "metadata": {},
   "source": [
    "实例化模型"
   ]
  },
  {
   "cell_type": "code",
   "execution_count": 7,
   "metadata": {},
   "outputs": [],
   "source": [
    "wavenet = WaveNet(**model_params[\"WaveNet\"]).to(device)\n",
    "gfsq = GFSQ(**model_params[\"GFSQ\"]).to(device)\n",
    "decoder = DVAEDecoder(**model_params[\"DVAEDecoder\"]).to(device)\n",
    "# 初始化判别器\n",
    "discriminator = DynamicAudioDiscriminator(**model_params[\"DynamicAudioDiscriminator\"]).to(device)"
   ]
  },
  {
   "cell_type": "markdown",
   "metadata": {},
   "source": [
    "定义损失函数和优化器"
   ]
  },
  {
   "cell_type": "code",
   "execution_count": 8,
   "metadata": {},
   "outputs": [],
   "source": [
    "loss_type = 'MSE'\n",
    "if loss_type == 'MSE':\n",
    "    criterion = nn.MSELoss()\n",
    "else:\n",
    "    criterion = nn.L1Loss()\n",
    "\n",
    "optimizer = optim.Adam(\n",
    "    list(wavenet.parameters()) + list(gfsq.parameters()) + list(decoder.parameters()), \n",
    "    lr=4e-4,\n",
    "    betas=(0.8, 0.99),\n",
    "    eps=1e-6,\n",
    ")\n",
    "# 定义判别器的优化器\n",
    "optimizer_d = torch.optim.Adam(discriminator.parameters(), lr=0.0001, betas=(0.5, 0.999))"
   ]
  },
  {
   "cell_type": "markdown",
   "metadata": {},
   "source": [
    "使用学习率调度器"
   ]
  },
  {
   "cell_type": "code",
   "execution_count": 9,
   "metadata": {},
   "outputs": [],
   "source": [
    "import math\n",
    "\n",
    "scheduler = optim.lr_scheduler.ExponentialLR(optimizer, gamma=0.999999)  # 调整调度器参数\n",
    "# 在模型定义后添加以下代码\n",
    "T_max = 100  # 余弦退火的最大周期为总轮数\n",
    "eta_min = 1e-6  # 最小学习率为1e-6\n",
    "\n",
    "# scheduler = optim.lr_scheduler.CosineAnnealingLR(optimizer, T_max=T_max, eta_min=eta_min)\n",
    "# scheduler = optim.lr_scheduler.ReduceLROnPlateau(optimizer, 'min', patience=5, factor=0.5)"
   ]
  },
  {
   "cell_type": "markdown",
   "metadata": {},
   "source": [
    "梯度累积设置"
   ]
  },
  {
   "cell_type": "code",
   "execution_count": 10,
   "metadata": {},
   "outputs": [],
   "source": [
    "accumulation_steps = 8"
   ]
  },
  {
   "cell_type": "markdown",
   "metadata": {},
   "source": [
    "加载数据集并拆分为训练集和验证集"
   ]
  },
  {
   "cell_type": "code",
   "execution_count": 11,
   "metadata": {},
   "outputs": [],
   "source": [
    "root_dir = \"/tmp/three_moon/\"\n",
    "audio_files = get_audio_files(root_dir)\n",
    "dataset = AudioDataset(audio_files)"
   ]
  },
  {
   "cell_type": "markdown",
   "metadata": {},
   "source": [
    "切割分成训练集和校验集"
   ]
  },
  {
   "cell_type": "code",
   "execution_count": 12,
   "metadata": {},
   "outputs": [
    {
     "name": "stderr",
     "output_type": "stream",
     "text": [
      "INFO:root:Train size: 2369 \t Val size: 125\n"
     ]
    }
   ],
   "source": [
    "train_size = int(0.95 * len(dataset))\n",
    "val_size = len(dataset) - train_size\n",
    "train_dataset, val_dataset = random_split(dataset, [train_size, val_size])\n",
    "logger.info(f\"Train size: {len(train_dataset)} \\t Val size: {len(val_dataset)}\")"
   ]
  },
  {
   "cell_type": "code",
   "execution_count": 13,
   "metadata": {},
   "outputs": [
    {
     "name": "stderr",
     "output_type": "stream",
     "text": [
      "/Users/charslee/miniconda3/envs/torch/lib/python3.10/site-packages/torch/cuda/amp/grad_scaler.py:125: UserWarning: torch.cuda.amp.GradScaler is enabled, but CUDA is not available.  Disabling.\n",
      "  warnings.warn(\n"
     ]
    }
   ],
   "source": [
    "if 'cuda' in str(device):\n",
    "    batch_size = 8\n",
    "else:\n",
    "    batch_size = 1\n",
    "\n",
    "train_loader = DataLoader(train_dataset, batch_size=batch_size, shuffle=True, collate_fn=dynamic_collate_fn, )\n",
    "val_loader = DataLoader(val_dataset, batch_size=batch_size, shuffle=False, collate_fn=dynamic_collate_fn, )\n",
    "\n",
    "# 创建 GradScaler，转换为fp16\n",
    "scaler = GradScaler()"
   ]
  },
  {
   "cell_type": "markdown",
   "metadata": {},
   "source": [
    "查找是否有记录点"
   ]
  },
  {
   "cell_type": "code",
   "execution_count": 14,
   "metadata": {},
   "outputs": [],
   "source": [
    "import glob  # 用于查找模型文件"
   ]
  },
  {
   "cell_type": "markdown",
   "metadata": {},
   "source": [
    "定义 resume 变量"
   ]
  },
  {
   "cell_type": "code",
   "execution_count": 15,
   "metadata": {},
   "outputs": [],
   "source": [
    "resume = False  # 如果需要从最新检查点恢复训练，则设置为 True"
   ]
  },
  {
   "cell_type": "markdown",
   "metadata": {},
   "source": [
    "获取最新的检查点"
   ]
  },
  {
   "cell_type": "code",
   "execution_count": 16,
   "metadata": {},
   "outputs": [],
   "source": [
    "def convert_state_dict_to_float(state_dict):\n",
    "    \"\"\"\n",
    "    将 state_dict 中的所有张量从 fp16 转换为 fp32\n",
    "    \"\"\"\n",
    "    new_state_dict = {}\n",
    "    for k, v in state_dict.items():\n",
    "        new_state_dict[k] = v.float()  # 将每个张量转换为float32\n",
    "    return new_state_dict\n",
    "\n",
    "\n",
    "if resume:\n",
    "    checkpoint_files = glob.glob('checkpoint_epoch_*.pth')\n",
    "    if checkpoint_files:\n",
    "        latest_checkpoint = max(checkpoint_files, key=os.path.getctime)\n",
    "        checkpoint = torch.load(latest_checkpoint)\n",
    "        wavenet.load_state_dict(convert_state_dict_to_float(checkpoint['wavenet_state_dict']))\n",
    "        gfsq.load_state_dict(convert_state_dict_to_float(checkpoint['gfsq_state_dict']))\n",
    "        decoder.load_state_dict(convert_state_dict_to_float(checkpoint['decoder_state_dict']))\n",
    "        discriminator.load_state_dict(convert_state_dict_to_float(checkpoint['discriminator_state_dict']))\n",
    "        optimizer.load_state_dict(checkpoint['optimizer_state_dict'])\n",
    "        optimizer_d.load_state_dict(checkpoint['optimizer_d_state_dict'])\n",
    "        scheduler.load_state_dict(checkpoint['scheduler_state_dict'])\n",
    "        scaler.load_state_dict(checkpoint['scaler_state_dict'])\n",
    "        start_epoch = checkpoint['epoch']\n",
    "        logger.info(f\"Resumed training from epoch {start_epoch}\")\n",
    "    else:\n",
    "        start_epoch = 0\n",
    "        logger.info(\"No checkpoint found, starting from scratch.\")\n",
    "else:\n",
    "    start_epoch = 0"
   ]
  },
  {
   "cell_type": "code",
   "execution_count": 17,
   "metadata": {},
   "outputs": [],
   "source": [
    "import librosa\n",
    "import numpy as np\n",
    "import torch\n",
    "\n",
    "def mel_to_audio(mel_spectrogram, sr=24000, n_fft=1024, hop_length=256, win_length=None):\n",
    "    \"\"\"将 Mel 频谱图转换回音频信号\"\"\"\n",
    "    # 确保输入为 NumPy 数组\n",
    "    if isinstance(mel_spectrogram, torch.Tensor):\n",
    "        mel_spectrogram = mel_spectrogram.cpu().numpy()\n",
    "    \n",
    "    # 使用 librosa 的功能进行逆 Mel 频谱变换\n",
    "    mel_decompress = librosa.feature.inverse.mel_to_audio(mel_spectrogram, sr=sr, n_fft=n_fft, hop_length=hop_length, win_length=win_length)\n",
    "    return mel_decompress"
   ]
  },
  {
   "cell_type": "code",
   "execution_count": 18,
   "metadata": {},
   "outputs": [],
   "source": [
    "# 定义混合损失函数\n",
    "def mixed_loss(decoded_features, mel_spectrogram):\n",
    "    loss_mse = F.mse_loss(decoded_features, mel_spectrogram)\n",
    "    loss_l1 = F.l1_loss(decoded_features, mel_spectrogram)\n",
    "    return loss_mse*0.5 + 0.5 * loss_l1\n",
    "\n",
    "# 时间步翻倍\n",
    "def double_time_steps(mel_spectrogram):\n",
    "    batch_size, n_mels, time_steps = mel_spectrogram.shape\n",
    "    mel_spectrogram = mel_spectrogram.unsqueeze(1)  # 添加通道维度\n",
    "    doubled_mel = F.interpolate(mel_spectrogram, size=(n_mels, time_steps * 2), mode='bilinear', align_corners=False)\n",
    "    return doubled_mel.squeeze(1)  # 移除通道维度\n",
    "\n",
    "# 定义判别器的损失函数\n",
    "def discriminator_loss_fn(outputs_real, outputs_fake):\n",
    "    real_loss = F.binary_cross_entropy_with_logits(outputs_real, torch.ones_like(outputs_real))\n",
    "    fake_loss = F.binary_cross_entropy_with_logits(outputs_fake, torch.zeros_like(outputs_fake))\n",
    "    return (real_loss + fake_loss) / 2\n",
    "\n",
    "# 定义生成器的损失函数\n",
    "def generator_loss_fn(outputs_fake):\n",
    "    return F.binary_cross_entropy_with_logits(outputs_fake, torch.ones_like(outputs_fake))\n",
    "\n",
    "# 定义判别器损失函数\n",
    "criterion_d = nn.BCELoss()"
   ]
  },
  {
   "cell_type": "code",
   "execution_count": 19,
   "metadata": {},
   "outputs": [],
   "source": [
    "def evaluate(wavenet, gfsq, decoder, val_loader, device):\n",
    "    wavenet.eval()\n",
    "    gfsq.eval()\n",
    "    decoder.eval()\n",
    "    val_loss_mse = 0\n",
    "    val_loss_l1 = 0\n",
    "    with torch.no_grad():\n",
    "        for mel_spectrogram in val_loader:\n",
    "            if mel_spectrogram is None:\n",
    "                continue  # Skip this batch\n",
    "            \n",
    "            mel_spectrogram = mel_spectrogram.to(device)\n",
    "            features = wavenet(mel_spectrogram)\n",
    "            _, quantized_features, _, _, _ = gfsq(features)\n",
    "            decoded_features = decoder(quantized_features)\n",
    "            loss_mse = F.mse_loss(decoded_features, mel_spectrogram)\n",
    "            loss_l1 = F.l1_loss(decoded_features, mel_spectrogram)\n",
    "            val_loss_mse += loss_mse.item()\n",
    "            val_loss_l1 += loss_l1.item()\n",
    "    val_loss_mse /= len(val_loader)\n",
    "    val_loss_l1 /= len(val_loader)\n",
    "    return val_loss_mse, val_loss_l1"
   ]
  },
  {
   "cell_type": "markdown",
   "metadata": {},
   "source": [
    "训练循环"
   ]
  },
  {
   "cell_type": "code",
   "execution_count": 20,
   "metadata": {},
   "outputs": [
    {
     "name": "stderr",
     "output_type": "stream",
     "text": [
      "/Users/charslee/miniconda3/envs/torch/lib/python3.10/site-packages/torch/amp/autocast_mode.py:250: UserWarning: User provided device_type of 'cuda', but CUDA is not available. Disabling\n",
      "  warnings.warn(\n",
      "INFO:root:Epoch [1/10000], Discriminator Step [100], Real Loss: 0.003419294720515609, Fake Loss: 0.0035232428926974535, Total Loss: 0.006942537613213062\n"
     ]
    }
   ],
   "source": [
    "# 训练循环\n",
    "num_epochs = 10000  # 定义训练的总轮数\n",
    "d_step = 0  # 判别器步骤计数器\n",
    "g_step = 0  # 生成器步骤计数器\n",
    "\n",
    "# 训练循环\n",
    "for epoch in range(start_epoch, num_epochs):\n",
    "    # 训练判别器\n",
    "    wavenet.eval()\n",
    "    gfsq.eval()\n",
    "    decoder.eval()\n",
    "    discriminator.train()\n",
    "    \n",
    "    for mel_spectrogram in train_loader:\n",
    "        if mel_spectrogram is None:\n",
    "            continue  # Skip this batch\n",
    "        \n",
    "        mel_spectrogram = mel_spectrogram.to(device)\n",
    "        \n",
    "        optimizer_d.zero_grad()\n",
    "        with autocast():\n",
    "            real_labels = torch.ones(mel_spectrogram.size(0), device=device)\n",
    "            fake_labels = torch.zeros(mel_spectrogram.size(0), device=device)\n",
    "            \n",
    "            try:\n",
    "                real_output = discriminator(mel_spectrogram)\n",
    "            except RuntimeError as e:\n",
    "                print(f\"Error during discriminator forward pass: {e}\")\n",
    "                continue\n",
    "            real_output = real_output.view(-1)  # 确保 real_output 的形状与 real_labels 一致\n",
    "            real_loss = criterion_d(real_output, real_labels)\n",
    "            \n",
    "            with torch.no_grad():\n",
    "                features = wavenet(mel_spectrogram)\n",
    "                _, quantized_features, _, _, _ = gfsq(features)\n",
    "                decoded_features = decoder(quantized_features)\n",
    "            fake_output = discriminator(decoded_features.detach())\n",
    "            fake_output = fake_output.view(-1)  # 确保 fake_output 的形状与 fake_labels 一致\n",
    "            fake_loss = criterion_d(fake_output, fake_labels)\n",
    "            \n",
    "            d_loss = real_loss + fake_loss\n",
    "        \n",
    "        scaler.scale(d_loss).backward()\n",
    "        scaler.step(optimizer_d)\n",
    "        scaler.update()\n",
    "        \n",
    "        # 记录判别器的损失\n",
    "        writer.add_scalar('Discriminator Loss/real', real_loss.item(), d_step)\n",
    "        writer.add_scalar('Discriminator Loss/fake', fake_loss.item(), d_step)\n",
    "        writer.add_scalar('Discriminator Loss/total', d_loss.item(), d_step)\n",
    "        \n",
    "        if (d_step + 1) % 100 == 0 or (d_step + 1) == len(train_loader):\n",
    "            logger.info(f\"Epoch [{epoch+1}/{num_epochs}], Discriminator Step [{d_step+1}], Real Loss: {real_loss.item()}, Fake Loss: {fake_loss.item()}, Total Loss: {d_loss.item()}\")\n",
    "        \n",
    "        d_step += 1\n",
    "    \n",
    "    # 训练生成器\n",
    "    wavenet.train()\n",
    "    gfsq.train()\n",
    "    decoder.train()\n",
    "    discriminator.eval()\n",
    "    \n",
    "    for mel_spectrogram in train_loader:\n",
    "        if mel_spectrogram is None:\n",
    "            continue  # Skip this batch\n",
    "        \n",
    "        mel_spectrogram = mel_spectrogram.to(device)\n",
    "        \n",
    "        optimizer.zero_grad()\n",
    "        with autocast():\n",
    "            features = wavenet(mel_spectrogram)\n",
    "            _, quantized_features, _, _, _ = gfsq(features)\n",
    "            decoded_features = decoder(quantized_features)\n",
    "            \n",
    "            g_loss = criterion(decoded_features, mel_spectrogram)\n",
    "            g_output = discriminator(decoded_features)\n",
    "            g_output = g_output.view(-1)  # 确保 g_output 的形状与 real_labels 一致\n",
    "            g_adv_loss = criterion_d(g_output, real_labels)\n",
    "            \n",
    "            total_g_loss = g_loss + g_adv_loss\n",
    "        \n",
    "        scaler.scale(total_g_loss).backward()\n",
    "        scaler.step(optimizer)\n",
    "        scaler.update()\n",
    "        \n",
    "        # 记录生成器的损失\n",
    "        writer.add_scalar('Generator Loss/total', total_g_loss.item(), g_step)\n",
    "        writer.add_scalar('Generator Loss/reconstruction', g_loss.item(), g_step)\n",
    "        writer.add_scalar('Generator Loss/adversarial', g_adv_loss.item(), g_step)\n",
    "        \n",
    "        if (g_step + 1) % 100 == 0 or (g_step + 1) == len(train_loader):\n",
    "            logger.info(f\"Epoch [{epoch+1}/{num_epochs}], Generator Step [{g_step+1}], Total Loss: {total_g_loss.item()}, Reconstruction Loss: {g_loss.item()}, Adversarial Loss: {g_adv_loss.item()}\")\n",
    "        \n",
    "        g_step += 1\n",
    "    \n",
    "    scheduler.step()\n",
    "    \n",
    "    # 验证模型\n",
    "    val_loss_mse, val_loss_l1 = evaluate(wavenet, gfsq, decoder, val_loader, device)\n",
    "    logger.info(f\"Epoch [{epoch+1}/{num_epochs}], MSE Loss: {val_loss_mse}, L1 Loss: {val_loss_l1}\")\n",
    "    writer.add_scalar('validation_mse_loss', val_loss_mse, epoch)\n",
    "    writer.add_scalar('validation_l1_loss', val_loss_l1, epoch)\n",
    "\n",
    "logger.info(\"训练完成\")\n",
    "writer.close()"
   ]
  },
  {
   "cell_type": "markdown",
   "metadata": {},
   "source": [
    "# 训练循环\n",
    "num_epochs = 10000  # 定义训练的总轮数\n",
    "i = 0\n",
    "for epoch in range(start_epoch, num_epochs):\n",
    "    wavenet.train()  # 设置WaveNet模型为训练模式\n",
    "    gfsq.train()  # 设置GFSQ模型为训练模式\n",
    "    decoder.train()  # 设置DVAEDecoder模型为训练模式\n",
    "    \n",
    "    for _, mel_spectrogram in enumerate(train_loader):\n",
    "        mel_spectrogram = mel_spectrogram.to(device)  # 将mel谱图数据移动到指定设备（GPU或CPU）\n",
    "        optimizer.zero_grad()  # 清空梯度\n",
    "        \n",
    "        # 前向传播\n",
    "        with autocast():\n",
    "            features = wavenet(mel_spectrogram)  # 通过WaveNet提取特征\n",
    "            _, quantized_features, perplexity, _, quantized_indices = gfsq(features)# 通过GFSQ量化特征\n",
    "\n",
    "            # 将特征沿着 dim=1 维度分成两部分，得到两个形状为 (1, 512, 121) 的张量。\n",
    "            temp = torch.chunk(quantized_features, 2, dim=1) # flatten trick :)\n",
    "            #将这两个张量堆叠在一起，得到形状为 (1, 512, 121, 2) 的张量\n",
    "            temp = torch.stack(temp, -1)\n",
    "            # 重新调整特征形状，得到 vq_feats 形状为 (1, 512, 242)\n",
    "            quantized_features = temp.reshape(*temp.shape[:2], -1)\n",
    "            # 将特征 vq_feats 转置,转置后的特征 vq_feats 形状为 (1, 242, 512)\n",
    "            # quantized_features = vq_feats.transpose(1, 2)\n",
    "            \n",
    "            decoded_features = decoder(quantized_features)  # 通过DVAEDecoder解码特征\n",
    "            # 解码的时间步会翻倍，所以也需要将原来的Mel频谱图翻倍处理\n",
    "            mel_spectrogram = double_time_steps(mel_spectrogram)\n",
    "\n",
    "            # 训练判别器\n",
    "            discriminator.zero_grad()\n",
    "            real_data = mel_spectrogram.unsqueeze(1).to(device)  # 真实数据\n",
    "            fake_data = decoder(quantized_features).detach()      # 生成器生成的数据\n",
    "            real_output = discriminator(real_data)\n",
    "            fake_output = discriminator(fake_data)\n",
    "            d_loss = discriminator_loss_fn(real_output, fake_output)\n",
    "            d_loss.backward()\n",
    "            optimizer_d.step()\n",
    "            \n",
    "            # 训练生成器\n",
    "            optimizer.zero_grad()\n",
    "            fake_data = decoder(quantized_features)\n",
    "            fake_output = discriminator(fake_data)\n",
    "            g_loss = generator_loss_fn(fake_output)\n",
    "            g_loss.backward()\n",
    "            optimizer.step()\n",
    "\n",
    "            # 计算损失\n",
    "            loss = criterion(decoded_features, mel_spectrogram)  # 计算解码后的特征与原始mel谱图之间的均方误差损失\n",
    "            # loss = mixed_loss(decoded_features, mel_spectrogram)\n",
    "            # (loss / accumulation_steps).backward()  # 反向传播并进行梯度累积\n",
    "        scaler.scale(loss).backward()\n",
    "        \n",
    "        if (i + 1) % accumulation_steps == 0:\n",
    "            # optimizer.step()  # 每 accumulation_steps 步更新一次模型参数\n",
    "            scaler.step(optimizer)\n",
    "            scaler.update()\n",
    "            optimizer.zero_grad()\n",
    "\n",
    "        # 打印每100 steps的信息\n",
    "        if (i + 1) % 100 == 0:\n",
    "            logger.info(f\"Epoch [{epoch+1}/{num_epochs}], Step [{i+1}], Loss: {loss.item()}, Perplexity: {perplexity.mean().item()}\")\n",
    "            writer.add_scalar('training_perplexity', perplexity.mean().item(), epoch * len(train_loader) + i)\n",
    "\n",
    "        # 每500 steps保存一次模型\n",
    "        if (i + 1) % 1000 == 0 or (i+1) == len(train_loader):\n",
    "            checkpoint_path = f'checkpoint_epoch_{epoch+1}_step_{i+1}.pth'\n",
    "            torch.save({\n",
    "                'epoch': epoch,\n",
    "                'wavenet_state_dict': wavenet.state_dict(),\n",
    "                'gfsq_state_dict': gfsq.state_dict(), \n",
    "                'decoder_state_dict': decoder.state_dict(),\n",
    "                'optimizer_state_dict': optimizer.state_dict(),\n",
    "                'scaler_state_dict': scaler.state_dict(),  # 保存 GradScaler 状态\n",
    "            }, checkpoint_path)\n",
    "            logger.info(f\"Model saved to {checkpoint_path}\")\n",
    "        i += 1   # 更新迭代计数器\n",
    "\n",
    "        # 记录损失值\n",
    "        writer.add_scalar('Loss/Discriminator', d_loss.item(), global_step=i)\n",
    "        writer.add_scalar('Loss/Generator', g_loss.item(), global_step=batch_idx)\n",
    "\n",
    "    scheduler.step()  # 每个epoch结束后更新学习率\n",
    "\n",
    "    # 验证模型\n",
    "    wavenet.eval()  # 设置WaveNet模型为评估模式\n",
    "    gfsq.eval()  # 设置GFSQ模型为评估模式\n",
    "    decoder.eval()  # 设置DVAEDecoder模型为评估模式\n",
    "    val_loss_mse = 0  # 初始化验证MSE损失\n",
    "    val_loss_l1 = 0  # 初始化验证L1损失\n",
    "    with torch.no_grad():  # 禁用梯度计算\n",
    "        for batch_index, mel_spectrogram in enumerate(val_loader):\n",
    "            mel_spectrogram = mel_spectrogram.to(device)  # 将mel谱图数据移动到指定设备\n",
    "            with autocast():\n",
    "                features = wavenet(mel_spectrogram)  # 通过WaveNet提取特征\n",
    "                _, quantized_features, perplexity, _, quantized_indices = gfsq(features) # 通过GFSQ量化特征\n",
    "    \n",
    "                # 将特征沿着 dim=1 维度分成两部分，得到两个形状为 (1, 512, 121) 的张量。\n",
    "                temp = torch.chunk(quantized_features, 2, dim=1) # flatten trick :)\n",
    "                #将这两个张量堆叠在一起，得到形状为 (1, 512, 121, 2) 的张量\n",
    "                temp = torch.stack(temp, -1)\n",
    "                # 重新调整特征形状，得到 vq_feats 形状为 (1, 512, 242)\n",
    "                quantized_features = temp.reshape(*temp.shape[:2], -1)\n",
    "                # 将特征 vq_feats 转置,转置后的特征 vq_feats 形状为 (1, 242, 512)\n",
    "                # quantized_features = vq_feats.transpose(1, 2)\n",
    "                \n",
    "                decoded_features = decoder(quantized_features)  # 通过DVAEDecoder解码特征\n",
    "                # 解码的时间步会翻倍，所以也需要将原来的Mel频谱图翻倍处理\n",
    "                mel_spectrogram = double_time_steps(mel_spectrogram)\n",
    "                \n",
    "                # 计算MSE损失\n",
    "                loss_mse = F.mse_loss(decoded_features, mel_spectrogram)  # 计算解码后的特征与原始mel谱图之间的均方误差损失\n",
    "                val_loss_mse += loss_mse.item()  # 累加验证MSE损失\n",
    "\n",
    "                # 计算L1损失\n",
    "                loss_l1 = F.l1_loss(decoded_features, mel_spectrogram)  # 计算解码后的特征与原始mel谱图之间的L1损失\n",
    "                val_loss_l1 += loss_l1.item()  # 累加验证L1损失\n",
    "\n",
    "    val_loss_mse /= len(val_loader)  # 计算平均验证MSE损失\n",
    "    val_loss_l1 /= len(val_loader)  # 计算平均验证L1损失\n",
    "\n",
    "    logger.info(f\"Epoch [{epoch+1}/{num_epochs}], MSE Loss: {val_loss_mse}, L1 Loss: {val_loss_l1}\")\n",
    "    writer.add_scalar('validation_mse_loss', val_loss_mse, epoch)  # 记录验证MSE损失到TensorBoard\n",
    "    writer.add_scalar('validation_l1_loss', val_loss_l1, epoch)  # 记录验证L1损失到TensorBoard\n",
    "\n",
    "logger.info(\"训练完成\")  # 训练完成后打印日志\n",
    "writer.close()  # 关闭TensorBoard日志记录器"
   ]
  }
 ],
 "metadata": {
  "kernelspec": {
   "display_name": "Python 3 (ipykernel)",
   "language": "python",
   "name": "python3"
  },
  "language_info": {
   "codemirror_mode": {
    "name": "ipython",
    "version": 3
   },
   "file_extension": ".py",
   "mimetype": "text/x-python",
   "name": "python",
   "nbconvert_exporter": "python",
   "pygments_lexer": "ipython3",
   "version": "3.10.13"
  }
 },
 "nbformat": 4,
 "nbformat_minor": 4
}
