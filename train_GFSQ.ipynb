{
 "cells": [
  {
   "cell_type": "code",
   "execution_count": 1,
   "metadata": {},
   "outputs": [
    {
     "name": "stderr",
     "output_type": "stream",
     "text": [
      "/root/miniconda3/lib/python3.10/site-packages/beartype/_util/error/utilerrwarn.py:67: BeartypeModuleUnimportableWarning: Ignoring module \"onnx\" importation exception:\n",
      "    ImportError: cannot import name 'builder' from 'google.protobuf.internal' (/root/miniconda3/lib/python3.10/site-packages/google/protobuf/internal/__init__.py)\n",
      "  warn(message, cls)\n",
      "/root/miniconda3/lib/python3.10/site-packages/beartype/_util/error/utilerrwarn.py:67: BeartypeModuleUnimportableWarning: Ignoring module \"onnx\" importation exception:\n",
      "    ImportError: cannot import name 'builder' from 'google.protobuf.internal' (/root/miniconda3/lib/python3.10/site-packages/google/protobuf/internal/__init__.py)\n",
      "  warn(message, cls)\n",
      "/root/miniconda3/lib/python3.10/site-packages/beartype/_util/error/utilerrwarn.py:67: BeartypeModuleUnimportableWarning: Ignoring module \"onnx\" importation exception:\n",
      "    ImportError: cannot import name 'builder' from 'google.protobuf.internal' (/root/miniconda3/lib/python3.10/site-packages/google/protobuf/internal/__init__.py)\n",
      "  warn(message, cls)\n"
     ]
    }
   ],
   "source": [
    "import torch\n",
    "import torch.nn as nn\n",
    "import torch.optim as optim\n",
    "import torch.nn.functional as F\n",
    "from torch.utils.data import DataLoader, Dataset\n",
    "from modules.wavenet import WaveNet\n",
    "from modules.dvae import GFSQ, DVAEDecoder\n",
    "import os\n",
    "from torch.utils.tensorboard import SummaryWriter\n",
    "import librosa\n",
    "import torchaudio\n",
    "from torch.utils.data import random_split\n",
    "import logging\n",
    "from torch.cuda.amp import autocast, GradScaler\n",
    "from modules.feature_extractors import MelSpectrogramFeatures\n",
    "from modules.discriminator import DynamicAudioDiscriminator,Discriminator,DynamicAudioDiscriminatorWithResidual"
   ]
  },
  {
   "cell_type": "markdown",
   "metadata": {},
   "source": [
    "设置设备，优先使用CUDA，其次是MPS（Mac上的GPU加速），最后是CPU"
   ]
  },
  {
   "cell_type": "code",
   "execution_count": 2,
   "metadata": {},
   "outputs": [
    {
     "name": "stderr",
     "output_type": "stream",
     "text": [
      "INFO:root:Use device: cuda:0\n"
     ]
    }
   ],
   "source": [
    "device = torch.device('cuda:0' if torch.cuda.is_available() else 'mps' if torch.backends.mps.is_available() else 'cpu')\n",
    "# 设置日志级别为INFO\n",
    "logging.basicConfig(level=logging.INFO)\n",
    "logger = logging.getLogger()\n",
    "logger.info(f\"Use device: {device}\")\n",
    "log_dir = \"runs/experiment1\"  # 指定日志目录\n",
    "writer = SummaryWriter(log_dir=log_dir)"
   ]
  },
  {
   "cell_type": "code",
   "execution_count": 3,
   "metadata": {},
   "outputs": [],
   "source": [
    "class AudioDataset(Dataset):\n",
    "    def __init__(self, audio_files, sample_rate=24000,n_fft =1024,hop_length=512,n_mels=100):\n",
    "        # 初始化音频文件列表和Mel谱图转换器\n",
    "        self.audio_files = audio_files\n",
    "        # self.mel_spectrogram = torchaudio.transforms.MelSpectrogram(sample_rate=sample_rate)\n",
    "        self.mel_spectrogram = MelSpectrogramFeatures(sample_rate=sample_rate, n_fft=n_fft, hop_length=hop_length, n_mels=n_mels)\n",
    "        self.sample_rate = sample_rate\n",
    "    def __len__(self):\n",
    "        # 返回数据集中的音频文件数量\n",
    "        return len(self.audio_files)\n",
    "    def __getitem__(self, idx):\n",
    "        # 加载并返回指定索引的音频文件的Mel谱图\n",
    "        mel_spectrogram = self.load_mel_spectrogram(self.audio_files[idx])\n",
    "        return mel_spectrogram\n",
    "    # def load_mel_spectrogram(self, file_path):\n",
    "    #     # 加载音频文件并转换为Mel谱图\n",
    "    #     waveform, sr = librosa.load(file_path, sr=self.sample_rate, mono=True)\n",
    "    #     S = librosa.feature.melspectrogram(y=waveform, sr=sr, n_mels=128,n_fft=1024,hop_length=256,)\n",
    "    #     return torch.from_numpy(S)\n",
    "    def load_mel_spectrogram(self, file_path):\n",
    "        # 加载音频文件并转换为Mel谱图\n",
    "        waveform, sr = torchaudio.load(file_path)\n",
    "        if waveform.shape[0] > 1:\n",
    "            waveform = waveform.mean(dim=0)\n",
    "        if sr != self.sample_rate:\n",
    "            waveform = torchaudio.transforms.Resample(sr, self.sample_rate)(waveform)\n",
    "        mel_spectrogram = self.mel_spectrogram(waveform)\n",
    "        return mel_spectrogram[0]\n"
   ]
  },
  {
   "cell_type": "code",
   "execution_count": 4,
   "metadata": {},
   "outputs": [],
   "source": [
    "def get_audio_files(root_dir):\n",
    "    \"\"\"# 从指定目录加载所有符合条件的音频文件\n",
    "    \"\"\"\n",
    "    audio_files = []\n",
    "    for root, _, files in os.walk(root_dir):\n",
    "        for file in files:\n",
    "            if file.endswith(\".wav\"):\n",
    "                file_path = os.path.join(root, file)\n",
    "                duration = torchaudio.info(file_path).num_frames / torchaudio.info(file_path).sample_rate\n",
    "                if 1 <= duration <= 30:\n",
    "                    audio_files.append(file_path)\n",
    "    return audio_files"
   ]
  },
  {
   "cell_type": "code",
   "execution_count": 5,
   "metadata": {},
   "outputs": [],
   "source": [
    "def dynamic_collate_fn(batch):\n",
    "    # Filter out tensors that do not have 2 dimensions\n",
    "    batch = [tensor for tensor in batch if len(tensor.shape) == 2]\n",
    "\n",
    "    # If the batch is empty after filtering, return None to skip this batch\n",
    "    if len(batch) == 0:\n",
    "        return None\n",
    "    \n",
    "    # 按照音频长度排序\n",
    "    batch.sort(key=lambda x: x.shape[1], reverse=True)\n",
    "    max_len = batch[0].shape[1]\n",
    "    \n",
    "    # 填充所有张量到相同的长度\n",
    "    padded_batch = []\n",
    "    for tensor in batch:\n",
    "        padded_tensor = torch.nn.functional.pad(tensor, (0, max_len - tensor.shape[1]), mode='constant', value=0)\n",
    "        padded_batch.append(padded_tensor)\n",
    "    \n",
    "    batch_tensor = torch.stack(padded_batch)\n",
    "    return batch_tensor"
   ]
  },
  {
   "cell_type": "markdown",
   "metadata": {},
   "source": [
    "初始化模型参数"
   ]
  },
  {
   "cell_type": "code",
   "execution_count": 6,
   "metadata": {},
   "outputs": [],
   "source": [
    "model_params = {\n",
    "    \"WaveNet\": {\"input_channels\": 100, \"output_channels\": 512, 'residual_layers': 12, 'dilation_cycle': 4,},\n",
    "    \"GFSQ\": {\"dim\": 512, \"levels\": [8,8,5,5], \"G\": 4, \"R\": 4},\n",
    "    \"DVAEDecoder\": {\"idim\": 512, \"odim\": 100, \"n_layer\":12, \"bn_dim\": 128, \"hidden\":512},\n",
    "    \"Discriminator\":{}\n",
    "}"
   ]
  },
  {
   "cell_type": "markdown",
   "metadata": {},
   "source": [
    "实例化模型"
   ]
  },
  {
   "cell_type": "code",
   "execution_count": 7,
   "metadata": {},
   "outputs": [],
   "source": [
    "wavenet = WaveNet(**model_params[\"WaveNet\"]).to(device)\n",
    "gfsq = GFSQ(**model_params[\"GFSQ\"]).to(device)\n",
    "decoder = DVAEDecoder(**model_params[\"DVAEDecoder\"]).to(device)\n",
    "# 初始化判别器\n",
    "discriminator = DynamicAudioDiscriminatorWithResidual(**model_params[\"Discriminator\"]).to(device)"
   ]
  },
  {
   "cell_type": "markdown",
   "metadata": {},
   "source": [
    "定义损失函数和优化器"
   ]
  },
  {
   "cell_type": "code",
   "execution_count": 8,
   "metadata": {},
   "outputs": [],
   "source": [
    "loss_type = 'MSE'\n",
    "if loss_type == 'MSE':\n",
    "    criterion = nn.MSELoss()\n",
    "else:\n",
    "    criterion = nn.L1Loss()\n",
    "\n",
    "optimizer = optim.Adam(\n",
    "    list(wavenet.parameters()) + list(gfsq.parameters()) + list(decoder.parameters()), \n",
    "    lr=4e-4,\n",
    "    betas=(0.8, 0.99),\n",
    "    eps=1e-6,\n",
    ")\n",
    "# 定义判别器的优化器\n",
    "optimizer_d = torch.optim.Adam(discriminator.parameters(), lr=5e-5,eps=1e-6,)"
   ]
  },
  {
   "cell_type": "markdown",
   "metadata": {},
   "source": [
    "使用学习率调度器"
   ]
  },
  {
   "cell_type": "code",
   "execution_count": 9,
   "metadata": {},
   "outputs": [],
   "source": [
    "import math\n",
    "\n",
    "scheduler = optim.lr_scheduler.ExponentialLR(optimizer, gamma=0.999999)  # 调整调度器参数\n",
    "# 在模型定义后添加以下代码\n",
    "T_max = 100  # 余弦退火的最大周期为总轮数\n",
    "eta_min = 1e-6  # 最小学习率为1e-6\n",
    "\n",
    "# scheduler = optim.lr_scheduler.CosineAnnealingLR(optimizer, T_max=T_max, eta_min=eta_min)\n",
    "# scheduler = optim.lr_scheduler.ReduceLROnPlateau(optimizer, 'min', patience=5, factor=0.5)\n",
    "scheduler_d = optim.lr_scheduler.CosineAnnealingLR(optimizer_d, T_max=T_max, eta_min=eta_min)  # 调整调度器参数"
   ]
  },
  {
   "cell_type": "markdown",
   "metadata": {},
   "source": [
    "梯度累积设置"
   ]
  },
  {
   "cell_type": "code",
   "execution_count": 10,
   "metadata": {},
   "outputs": [],
   "source": [
    "accumulation_steps = 8"
   ]
  },
  {
   "cell_type": "markdown",
   "metadata": {},
   "source": [
    "加载数据集并拆分为训练集和验证集"
   ]
  },
  {
   "cell_type": "code",
   "execution_count": 11,
   "metadata": {},
   "outputs": [],
   "source": [
    "root_dir = \"/root/autodl-tmp/three_moon\"\n",
    "audio_files = get_audio_files(root_dir)\n",
    "dataset = AudioDataset(audio_files)"
   ]
  },
  {
   "cell_type": "markdown",
   "metadata": {},
   "source": [
    "切割分成训练集和校验集"
   ]
  },
  {
   "cell_type": "code",
   "execution_count": 12,
   "metadata": {},
   "outputs": [
    {
     "name": "stderr",
     "output_type": "stream",
     "text": [
      "INFO:root:Train size: 2818 \t Val size: 149\n"
     ]
    }
   ],
   "source": [
    "train_size = int(0.95 * len(dataset))\n",
    "val_size = len(dataset) - train_size\n",
    "train_dataset, val_dataset = random_split(dataset, [train_size, val_size])\n",
    "logger.info(f\"Train size: {len(train_dataset)} \\t Val size: {len(val_dataset)}\")"
   ]
  },
  {
   "cell_type": "code",
   "execution_count": 13,
   "metadata": {},
   "outputs": [],
   "source": [
    "if 'cuda' in str(device):\n",
    "    batch_size = 16\n",
    "else:\n",
    "    batch_size = 1\n",
    "\n",
    "train_loader = DataLoader(train_dataset, batch_size=batch_size, shuffle=True, collate_fn=dynamic_collate_fn, )\n",
    "val_loader = DataLoader(val_dataset, batch_size=batch_size, shuffle=False, collate_fn=dynamic_collate_fn, )\n",
    "\n",
    "# 创建 GradScaler，转换为fp16\n",
    "scaler = GradScaler()"
   ]
  },
  {
   "cell_type": "markdown",
   "metadata": {},
   "source": [
    "查找是否有记录点"
   ]
  },
  {
   "cell_type": "code",
   "execution_count": 14,
   "metadata": {},
   "outputs": [],
   "source": [
    "import glob  # 用于查找模型文件"
   ]
  },
  {
   "cell_type": "markdown",
   "metadata": {},
   "source": [
    "定义 resume 变量"
   ]
  },
  {
   "cell_type": "code",
   "execution_count": 15,
   "metadata": {},
   "outputs": [],
   "source": [
    "resume = False  # 如果需要从最新检查点恢复训练，则设置为 True"
   ]
  },
  {
   "cell_type": "markdown",
   "metadata": {},
   "source": [
    "获取最新的检查点"
   ]
  },
  {
   "cell_type": "code",
   "execution_count": 16,
   "metadata": {},
   "outputs": [],
   "source": [
    "def convert_state_dict_to_float(state_dict):\n",
    "    \"\"\"\n",
    "    将 state_dict 中的所有张量从 fp16 转换为 fp32\n",
    "    \"\"\"\n",
    "    new_state_dict = {}\n",
    "    for k, v in state_dict.items():\n",
    "        new_state_dict[k] = v.float()  # 将每个张量转换为float32\n",
    "    return new_state_dict\n",
    "\n",
    "\n",
    "if resume:\n",
    "    checkpoint_files = glob.glob('checkpoint_epoch_*.pth')\n",
    "    if checkpoint_files:\n",
    "        latest_checkpoint = max(checkpoint_files, key=os.path.getctime)\n",
    "        checkpoint = torch.load(latest_checkpoint)\n",
    "        wavenet.load_state_dict(convert_state_dict_to_float(checkpoint['wavenet_state_dict']))\n",
    "        gfsq.load_state_dict(convert_state_dict_to_float(checkpoint['gfsq_state_dict']))\n",
    "        decoder.load_state_dict(convert_state_dict_to_float(checkpoint['decoder_state_dict']))\n",
    "        discriminator.load_state_dict(convert_state_dict_to_float(checkpoint['discriminator_state_dict']))\n",
    "        optimizer.load_state_dict(checkpoint['optimizer_state_dict'])\n",
    "        optimizer_d.load_state_dict(checkpoint['optimizer_d_state_dict'])\n",
    "        scheduler.load_state_dict(checkpoint['scheduler_state_dict'])\n",
    "        scaler.load_state_dict(checkpoint['scaler_state_dict'])\n",
    "        start_epoch = checkpoint['epoch']\n",
    "        logger.info(f\"Resumed training from epoch {start_epoch}\")\n",
    "    else:\n",
    "        start_epoch = 0\n",
    "        logger.info(\"No checkpoint found, starting from scratch.\")\n",
    "else:\n",
    "    start_epoch = 0"
   ]
  },
  {
   "cell_type": "code",
   "execution_count": 17,
   "metadata": {},
   "outputs": [],
   "source": [
    "import librosa\n",
    "import numpy as np\n",
    "import torch\n",
    "\n",
    "def mel_to_audio(mel_spectrogram, sr=24000, n_fft=1024, hop_length=256, win_length=None):\n",
    "    \"\"\"将 Mel 频谱图转换回音频信号\"\"\"\n",
    "    # 确保输入为 NumPy 数组\n",
    "    if isinstance(mel_spectrogram, torch.Tensor):\n",
    "        mel_spectrogram = mel_spectrogram.cpu().numpy()\n",
    "    \n",
    "    # 使用 librosa 的功能进行逆 Mel 频谱变换\n",
    "    mel_decompress = librosa.feature.inverse.mel_to_audio(mel_spectrogram, sr=sr, n_fft=n_fft, hop_length=hop_length, win_length=win_length)\n",
    "    return mel_decompress"
   ]
  },
  {
   "cell_type": "code",
   "execution_count": 18,
   "metadata": {},
   "outputs": [],
   "source": [
    "# 定义混合损失函数\n",
    "def mixed_loss(decoded_features, mel_spectrogram):\n",
    "    loss_mse = F.mse_loss(decoded_features, mel_spectrogram)\n",
    "    loss_l1 = F.l1_loss(decoded_features, mel_spectrogram)\n",
    "    return loss_mse*0.5 + 0.5 * loss_l1\n",
    "\n",
    "# 时间步翻倍\n",
    "def double_time_steps(mel_spectrogram):\n",
    "    batch_size, n_mels, time_steps = mel_spectrogram.shape\n",
    "    mel_spectrogram = mel_spectrogram.unsqueeze(1)  # 添加通道维度\n",
    "    doubled_mel = F.interpolate(mel_spectrogram, size=(n_mels, time_steps * 2), mode='bilinear', align_corners=False)\n",
    "    return doubled_mel.squeeze(1)  # 移除通道维度\n",
    "\n",
    "# 定义判别器的损失函数\n",
    "def discriminator_loss_fn(outputs_real, outputs_fake):\n",
    "    real_loss = F.binary_cross_entropy_with_logits(outputs_real, torch.ones_like(outputs_real))\n",
    "    fake_loss = F.binary_cross_entropy_with_logits(outputs_fake, torch.zeros_like(outputs_fake))\n",
    "    return (real_loss + fake_loss) / 2\n",
    "\n",
    "# 定义生成器的损失函数\n",
    "def generator_loss_fn(outputs_fake):\n",
    "    return F.binary_cross_entropy_with_logits(outputs_fake, torch.ones_like(outputs_fake))\n",
    "\n",
    "# 定义判别器损失函数\n",
    "criterion_d = nn.BCEWithLogitsLoss()"
   ]
  },
  {
   "cell_type": "code",
   "execution_count": 19,
   "metadata": {},
   "outputs": [],
   "source": [
    "def evaluate(wavenet, gfsq, decoder, val_loader, device):\n",
    "    wavenet.eval()\n",
    "    gfsq.eval()\n",
    "    decoder.eval()\n",
    "    val_loss_mse = 0\n",
    "    val_loss_l1 = 0\n",
    "    with torch.no_grad():\n",
    "        for mel_spectrogram in val_loader:\n",
    "            if mel_spectrogram is None:\n",
    "                continue  # Skip this batch\n",
    "            \n",
    "            mel_spectrogram = mel_spectrogram.to(device)\n",
    "            features = wavenet(mel_spectrogram)\n",
    "            _, quantized_features, _, _, _ = gfsq(features)\n",
    "            decoded_features = decoder(quantized_features)\n",
    "            loss_mse = F.mse_loss(decoded_features, mel_spectrogram)\n",
    "            loss_l1 = F.l1_loss(decoded_features, mel_spectrogram)\n",
    "            val_loss_mse += loss_mse.item()\n",
    "            val_loss_l1 += loss_l1.item()\n",
    "    val_loss_mse /= len(val_loader)\n",
    "    val_loss_l1 /= len(val_loader)\n",
    "    return val_loss_mse, val_loss_l1"
   ]
  },
  {
   "cell_type": "markdown",
   "metadata": {},
   "source": [
    "训练循环"
   ]
  },
  {
   "cell_type": "code",
   "execution_count": null,
   "metadata": {},
   "outputs": [
    {
     "name": "stderr",
     "output_type": "stream",
     "text": [
      "INFO:root:Epoch [1/10000], Step [100], Discriminator Loss: 1.2375026941299438, Generator Loss: 1.6120800971984863, Perplexity: 18.583030700683594\n",
      "INFO:root:Epoch [1/10000], Step [177], Discriminator Loss: 1.399783730506897, Generator Loss: 2.289944648742676, Perplexity: 91.18138122558594\n",
      "INFO:root:Epoch [1/10000], MSE Loss: 0.6898749530315399, L1 Loss: 0.4850239098072052\n",
      "INFO:root:Epoch [2/10000], Step [200], Discriminator Loss: 1.2608661651611328, Generator Loss: 1.5712120532989502, Perplexity: 23.802093505859375\n",
      "INFO:root:Epoch [2/10000], Step [300], Discriminator Loss: 0.9456790685653687, Generator Loss: 1.6310044527053833, Perplexity: 16.073501586914062\n",
      "INFO:root:Epoch [2/10000], MSE Loss: 0.6193432509899139, L1 Loss: 0.41728109419345855\n",
      "INFO:root:Epoch [3/10000], Step [400], Discriminator Loss: 0.8177545070648193, Generator Loss: 1.520383358001709, Perplexity: 13.768088340759277\n",
      "INFO:root:Epoch [3/10000], Step [500], Discriminator Loss: 0.28484097123146057, Generator Loss: 2.552838087081909, Perplexity: 28.564882278442383\n",
      "INFO:root:Epoch [3/10000], MSE Loss: 0.7772248268127442, L1 Loss: 0.4630414605140686\n",
      "INFO:root:Epoch [4/10000], Step [600], Discriminator Loss: 1.7142786979675293, Generator Loss: 1.8204647302627563, Perplexity: 13.177648544311523\n",
      "INFO:root:Epoch [4/10000], Step [700], Discriminator Loss: 0.2808448076248169, Generator Loss: 3.098803758621216, Perplexity: 8.074685096740723\n",
      "INFO:root:Epoch [4/10000], MSE Loss: 0.9031831681728363, L1 Loss: 0.5105115413665772\n",
      "INFO:root:Epoch [5/10000], Step [800], Discriminator Loss: 1.4863760471343994, Generator Loss: 1.763922929763794, Perplexity: 13.230855941772461\n"
     ]
    }
   ],
   "source": [
    "# 训练循环\n",
    "num_epochs = 10000  # 定义训练的总轮数\n",
    "step_counter = 0  # 步骤计数器\n",
    "\n",
    "# 训练循环\n",
    "for epoch in range(start_epoch, num_epochs):\n",
    "    wavenet.train()\n",
    "    gfsq.train()\n",
    "    decoder.train()\n",
    "    discriminator.train()\n",
    "    \n",
    "    for mel_spectrogram in train_loader:\n",
    "        if mel_spectrogram is None:\n",
    "            continue  # Skip this batch\n",
    "        \n",
    "        mel_spectrogram = mel_spectrogram.to(device)\n",
    "        \n",
    "        # 更新判别器\n",
    "        optimizer_d.zero_grad()\n",
    "        with autocast():\n",
    "            real_labels = torch.ones(mel_spectrogram.size(0), device=device)\n",
    "            fake_labels = torch.zeros(mel_spectrogram.size(0), device=device)\n",
    "            \n",
    "            real_output = discriminator(mel_spectrogram)\n",
    "            real_output = real_output.view(-1)\n",
    "            real_loss = criterion_d(real_output, real_labels)\n",
    "            \n",
    "            features = wavenet(mel_spectrogram)\n",
    "            _, quantized_features, _, _, _ = gfsq(features)\n",
    "            decoded_features = decoder(quantized_features)\n",
    "            fake_output = discriminator(decoded_features.detach())\n",
    "            fake_output = fake_output.view(-1)\n",
    "            fake_loss = criterion_d(fake_output, fake_labels)\n",
    "            \n",
    "            d_loss = (real_loss + fake_loss) /2 \n",
    "        \n",
    "        scaler.scale(d_loss).backward()\n",
    "        scaler.step(optimizer_d)\n",
    "        scaler.update()\n",
    "        \n",
    "        # 记录判别器的损失\n",
    "        writer.add_scalar('Discriminator Loss/real', real_loss.item(), step_counter)\n",
    "        writer.add_scalar('Discriminator Loss/fake', fake_loss.item(), step_counter)\n",
    "        writer.add_scalar('Discriminator Loss/total', d_loss.item(), step_counter)\n",
    "        \n",
    "        # 更新生成器\n",
    "        optimizer.zero_grad()\n",
    "        with autocast():\n",
    "            features = wavenet(mel_spectrogram)\n",
    "            _, quantized_features, perplexity, _, quantized_indices = gfsq(features)# 通过GFSQ量化特征\n",
    "            decoded_features = decoder(quantized_features)\n",
    "            \n",
    "            g_loss = criterion(decoded_features, mel_spectrogram)\n",
    "            g_output = discriminator(decoded_features)\n",
    "            g_output = g_output.view(-1)\n",
    "            g_adv_loss = criterion_d(g_output, real_labels)\n",
    "            \n",
    "            total_g_loss = g_loss + g_adv_loss * 0.3\n",
    "        \n",
    "        scaler.scale(total_g_loss).backward()\n",
    "        scaler.step(optimizer)\n",
    "        scaler.update()\n",
    "        \n",
    "        # 记录生成器的损失\n",
    "        writer.add_scalar('Generator Loss/total', total_g_loss.item(), step_counter)\n",
    "        writer.add_scalar('Generator Loss/reconstruction', g_loss.item(), step_counter)\n",
    "        writer.add_scalar('Generator Loss/adversarial', g_adv_loss.item(), step_counter)\n",
    "        writer.add_scalar('training_perplexity',perplexity.mean().item(),step_counter)\n",
    "        \n",
    "        if (step_counter + 1) % 100 == 0 or (step_counter + 1) == len(train_loader):\n",
    "            logger.info(f\"Epoch [{epoch+1}/{num_epochs}], Step [{step_counter+1}], Discriminator Loss: {d_loss.item()}, Generator Loss: {total_g_loss.item()}, Perplexity: {perplexity.mean().item()}\")\n",
    "        \n",
    "        # 释放不必要的张量\n",
    "        # if (step_counter + 1) % 50 == 0:\n",
    "        #     del real_output, real_loss, fake_output, fake_loss, d_loss, features, quantized_features, decoded_features, total_g_loss\n",
    "        #     torch.cuda.empty_cache()\n",
    "        \n",
    "        step_counter += 1\n",
    "            \n",
    "    # 调整学习率\n",
    "    scheduler_d.step()\n",
    "    scheduler.step()\n",
    "\n",
    "    # 验证模型\n",
    "    val_loss_mse, val_loss_l1 = evaluate(wavenet, gfsq, decoder, val_loader, device)\n",
    "    logger.info(f\"Epoch [{epoch+1}/{num_epochs}], MSE Loss: {val_loss_mse}, L1 Loss: {val_loss_l1}\")\n",
    "    writer.add_scalar('validation_mse_loss', val_loss_mse, epoch)\n",
    "    writer.add_scalar('validation_l1_loss', val_loss_l1, epoch)\n",
    "\n",
    "    # 每5个epoch就保存模型状态字典\n",
    "    if (epoch + 1) % 5 == 0:\n",
    "        checkpoint_path = f'checkpoint_epoch_{epoch+1}.pth'\n",
    "        torch.save({\n",
    "            'epoch': epoch+1,\n",
    "            'wavenet_state_dict': wavenet.state_dict(),\n",
    "            'gfsq_state_dict': gfsq.state_dict(), \n",
    "            'decoder_state_dict': decoder.state_dict(),\n",
    "            'discriminator_state_dict': discriminator.state_dict(),\n",
    "            'optimizer_state_dict': optimizer.state_dict(),\n",
    "            'optimizer_d_state_dict': optimizer_d.state_dict(),\n",
    "            'scheduler_state_dict': scheduler.state_dict(),\n",
    "            'scaler_state_dict': scaler.state_dict(),\n",
    "        }, checkpoint_path)\n",
    "        logger.info(f\"Model saved to {checkpoint_path}\")\n",
    "    \n",
    "logger.info(\"训练完成\")\n",
    "writer.close()"
   ]
  }
 ],
 "metadata": {
  "kernelspec": {
   "display_name": "Python 3 (ipykernel)",
   "language": "python",
   "name": "python3"
  },
  "language_info": {
   "codemirror_mode": {
    "name": "ipython",
    "version": 3
   },
   "file_extension": ".py",
   "mimetype": "text/x-python",
   "name": "python",
   "nbconvert_exporter": "python",
   "pygments_lexer": "ipython3",
   "version": "3.10.13"
  }
 },
 "nbformat": 4,
 "nbformat_minor": 4
}
